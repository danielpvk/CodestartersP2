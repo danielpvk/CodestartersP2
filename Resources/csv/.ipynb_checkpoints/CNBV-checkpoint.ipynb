{
 "cells": [
  {
   "cell_type": "code",
   "execution_count": 1,
   "metadata": {},
   "outputs": [],
   "source": [
    "import pandas as pd\n",
    "from sqlalchemy import create_engine"
   ]
  },
  {
   "cell_type": "code",
   "execution_count": 2,
   "metadata": {},
   "outputs": [],
   "source": [
    "cnbv_df = pd.read_csv( \"base_cnbv.csv\")\n",
    "catalogo_sector= pd.read_csv('catalogo.csv', encoding= 'latin-1')"
   ]
  },
  {
   "cell_type": "code",
   "execution_count": 3,
   "metadata": {},
   "outputs": [],
   "source": [
    "cnbv_df[\"Cartera_Total\"] = cnbv_df[\"Cartera_Total\"].str.replace(\",\",\"\").astype(float)"
   ]
  },
  {
   "cell_type": "code",
   "execution_count": 4,
   "metadata": {
    "scrolled": true
   },
   "outputs": [
    {
     "data": {
      "text/plain": [
       "2564433.3899999997"
      ]
     },
     "execution_count": 4,
     "metadata": {},
     "output_type": "execute_result"
    }
   ],
   "source": [
    "cnbv_df['Cartera_Total'].sum()"
   ]
  },
  {
   "cell_type": "code",
   "execution_count": 5,
   "metadata": {
    "scrolled": true
   },
   "outputs": [
    {
     "data": {
      "text/html": [
       "<div>\n",
       "<style scoped>\n",
       "    .dataframe tbody tr th:only-of-type {\n",
       "        vertical-align: middle;\n",
       "    }\n",
       "\n",
       "    .dataframe tbody tr th {\n",
       "        vertical-align: top;\n",
       "    }\n",
       "\n",
       "    .dataframe thead th {\n",
       "        text-align: right;\n",
       "    }\n",
       "</style>\n",
       "<table border=\"1\" class=\"dataframe\">\n",
       "  <thead>\n",
       "    <tr style=\"text-align: right;\">\n",
       "      <th></th>\n",
       "      <th>Actividad_economica_agragada</th>\n",
       "      <th>Sector</th>\n",
       "    </tr>\n",
       "  </thead>\n",
       "  <tbody>\n",
       "    <tr>\n",
       "      <th>0</th>\n",
       "      <td>Agricultura, Silvicultura, Ganadería y Pesca</td>\n",
       "      <td>Otros</td>\n",
       "    </tr>\n",
       "    <tr>\n",
       "      <th>1</th>\n",
       "      <td>Alimentos, Bebidas y Tabaco</td>\n",
       "      <td>Otros</td>\n",
       "    </tr>\n",
       "    <tr>\n",
       "      <th>2</th>\n",
       "      <td>Comercio</td>\n",
       "      <td>Otros</td>\n",
       "    </tr>\n",
       "    <tr>\n",
       "      <th>3</th>\n",
       "      <td>Comunicaciones y Telecomunicaciones</td>\n",
       "      <td>Otros</td>\n",
       "    </tr>\n",
       "    <tr>\n",
       "      <th>4</th>\n",
       "      <td>Construcción</td>\n",
       "      <td>Construccion</td>\n",
       "    </tr>\n",
       "  </tbody>\n",
       "</table>\n",
       "</div>"
      ],
      "text/plain": [
       "                   Actividad_economica_agragada        Sector\n",
       "0  Agricultura, Silvicultura, Ganadería y Pesca         Otros\n",
       "1                   Alimentos, Bebidas y Tabaco         Otros\n",
       "2                                      Comercio         Otros\n",
       "3           Comunicaciones y Telecomunicaciones         Otros\n",
       "4                                  Construcción  Construccion"
      ]
     },
     "execution_count": 5,
     "metadata": {},
     "output_type": "execute_result"
    }
   ],
   "source": [
    "catalogo_sector.head()"
   ]
  },
  {
   "cell_type": "code",
   "execution_count": 6,
   "metadata": {},
   "outputs": [
    {
     "data": {
      "text/html": [
       "<div>\n",
       "<style scoped>\n",
       "    .dataframe tbody tr th:only-of-type {\n",
       "        vertical-align: middle;\n",
       "    }\n",
       "\n",
       "    .dataframe tbody tr th {\n",
       "        vertical-align: top;\n",
       "    }\n",
       "\n",
       "    .dataframe thead th {\n",
       "        text-align: right;\n",
       "    }\n",
       "</style>\n",
       "<table border=\"1\" class=\"dataframe\">\n",
       "  <thead>\n",
       "    <tr style=\"text-align: right;\">\n",
       "      <th></th>\n",
       "      <th>Actividad_economica_agragada</th>\n",
       "      <th>Sector</th>\n",
       "    </tr>\n",
       "  </thead>\n",
       "  <tbody>\n",
       "    <tr>\n",
       "      <th>0</th>\n",
       "      <td>Agricultura, Silvicultura, Ganadería y Pesca</td>\n",
       "      <td>Otros</td>\n",
       "    </tr>\n",
       "    <tr>\n",
       "      <th>1</th>\n",
       "      <td>Alimentos, Bebidas y Tabaco</td>\n",
       "      <td>Otros</td>\n",
       "    </tr>\n",
       "    <tr>\n",
       "      <th>2</th>\n",
       "      <td>Comercio</td>\n",
       "      <td>Otros</td>\n",
       "    </tr>\n",
       "    <tr>\n",
       "      <th>3</th>\n",
       "      <td>Comunicaciones y Telecomunicaciones</td>\n",
       "      <td>Otros</td>\n",
       "    </tr>\n",
       "    <tr>\n",
       "      <th>4</th>\n",
       "      <td>Construcción</td>\n",
       "      <td>Construccion</td>\n",
       "    </tr>\n",
       "  </tbody>\n",
       "</table>\n",
       "</div>"
      ],
      "text/plain": [
       "                   Actividad_economica_agragada        Sector\n",
       "0  Agricultura, Silvicultura, Ganadería y Pesca         Otros\n",
       "1                   Alimentos, Bebidas y Tabaco         Otros\n",
       "2                                      Comercio         Otros\n",
       "3           Comunicaciones y Telecomunicaciones         Otros\n",
       "4                                  Construcción  Construccion"
      ]
     },
     "execution_count": 6,
     "metadata": {},
     "output_type": "execute_result"
    }
   ],
   "source": [
    "catalogo_sector.head()"
   ]
  },
  {
   "cell_type": "code",
   "execution_count": 7,
   "metadata": {},
   "outputs": [],
   "source": [
    "merge_1 = pd.merge(cnbv_df, catalogo_sector, on='Actividad_economica_agragada')"
   ]
  },
  {
   "cell_type": "code",
   "execution_count": 8,
   "metadata": {},
   "outputs": [
    {
     "data": {
      "text/plain": [
       "array(['Otros', 'Construccion', 'Industrias manufactureras',\n",
       "       'Mineria y energia', 'Actividades secundarias'], dtype=object)"
      ]
     },
     "execution_count": 8,
     "metadata": {},
     "output_type": "execute_result"
    }
   ],
   "source": [
    "merge_1['Sector'].unique()"
   ]
  },
  {
   "cell_type": "code",
   "execution_count": 9,
   "metadata": {},
   "outputs": [
    {
     "data": {
      "text/plain": [
       "Index(['Escala', 'Estado_calculado', 'Actividad_economica_agragada',\n",
       "       'Destino_del_crédito', 'Institución', 'Periodo_seguimiento', 'Cartera',\n",
       "       'Cartera_Total', 'Cartera_Vigente', 'Cartera_Vencida', 'IMOR',\n",
       "       'Creditos', 'Acreditados', 'Sector'],\n",
       "      dtype='object')"
      ]
     },
     "execution_count": 9,
     "metadata": {},
     "output_type": "execute_result"
    }
   ],
   "source": [
    "merge_1.columns"
   ]
  },
  {
   "cell_type": "code",
   "execution_count": 10,
   "metadata": {},
   "outputs": [],
   "source": [
    "rds_connection_string =  \"postgres:root@localhost:5432/CARTERA_VS_PIB\""
   ]
  },
  {
   "cell_type": "code",
   "execution_count": 11,
   "metadata": {},
   "outputs": [],
   "source": [
    "engine = create_engine(f'postgresql://{rds_connection_string}')"
   ]
  },
  {
   "cell_type": "code",
   "execution_count": 12,
   "metadata": {},
   "outputs": [],
   "source": [
    "PIB_df=pd.read_sql_query('select * from pib_data', con=engine)"
   ]
  },
  {
   "cell_type": "code",
   "execution_count": 13,
   "metadata": {},
   "outputs": [
    {
     "data": {
      "text/html": [
       "<div>\n",
       "<style scoped>\n",
       "    .dataframe tbody tr th:only-of-type {\n",
       "        vertical-align: middle;\n",
       "    }\n",
       "\n",
       "    .dataframe tbody tr th {\n",
       "        vertical-align: top;\n",
       "    }\n",
       "\n",
       "    .dataframe thead th {\n",
       "        text-align: right;\n",
       "    }\n",
       "</style>\n",
       "<table border=\"1\" class=\"dataframe\">\n",
       "  <thead>\n",
       "    <tr style=\"text-align: right;\">\n",
       "      <th></th>\n",
       "      <th>Estado_calculado</th>\n",
       "      <th>Actividad_economica_agragada</th>\n",
       "      <th>2018/01</th>\n",
       "      <th>2018/02</th>\n",
       "      <th>2018/03</th>\n",
       "      <th>2018/04</th>\n",
       "      <th>2018/05</th>\n",
       "      <th>2018/06</th>\n",
       "      <th>2018/07</th>\n",
       "      <th>2018/08</th>\n",
       "      <th>2018/09</th>\n",
       "      <th>2018/10</th>\n",
       "      <th>2018/11</th>\n",
       "      <th>2018/12</th>\n",
       "      <th>2019/01</th>\n",
       "    </tr>\n",
       "  </thead>\n",
       "  <tbody>\n",
       "    <tr>\n",
       "      <th>0</th>\n",
       "      <td>AGUASCALIENTES</td>\n",
       "      <td>Minería</td>\n",
       "      <td>71.581928</td>\n",
       "      <td>74.538138</td>\n",
       "      <td>81.759683</td>\n",
       "      <td>72.966245</td>\n",
       "      <td>76.021630</td>\n",
       "      <td>67.741930</td>\n",
       "      <td>70.577510</td>\n",
       "      <td>75.160746</td>\n",
       "      <td>73.241484</td>\n",
       "      <td>71.103056</td>\n",
       "      <td>78.240948</td>\n",
       "      <td>67.380510</td>\n",
       "      <td>61.900116</td>\n",
       "    </tr>\n",
       "    <tr>\n",
       "      <th>1</th>\n",
       "      <td>AGUASCALIENTES</td>\n",
       "      <td>Generación, transmisión y distribución de ener...</td>\n",
       "      <td>123.135766</td>\n",
       "      <td>125.902232</td>\n",
       "      <td>116.336919</td>\n",
       "      <td>131.971977</td>\n",
       "      <td>122.666208</td>\n",
       "      <td>134.363338</td>\n",
       "      <td>128.927324</td>\n",
       "      <td>124.895400</td>\n",
       "      <td>135.179778</td>\n",
       "      <td>133.347973</td>\n",
       "      <td>142.452951</td>\n",
       "      <td>126.612567</td>\n",
       "      <td>127.888741</td>\n",
       "    </tr>\n",
       "    <tr>\n",
       "      <th>2</th>\n",
       "      <td>AGUASCALIENTES</td>\n",
       "      <td>Construcción</td>\n",
       "      <td>122.091917</td>\n",
       "      <td>130.383091</td>\n",
       "      <td>126.659724</td>\n",
       "      <td>113.136473</td>\n",
       "      <td>115.405914</td>\n",
       "      <td>108.993267</td>\n",
       "      <td>116.819366</td>\n",
       "      <td>116.504343</td>\n",
       "      <td>117.430186</td>\n",
       "      <td>121.931559</td>\n",
       "      <td>126.966549</td>\n",
       "      <td>118.115246</td>\n",
       "      <td>115.432118</td>\n",
       "    </tr>\n",
       "    <tr>\n",
       "      <th>3</th>\n",
       "      <td>AGUASCALIENTES</td>\n",
       "      <td>Industrias manufactureras</td>\n",
       "      <td>156.279936</td>\n",
       "      <td>137.011376</td>\n",
       "      <td>143.705521</td>\n",
       "      <td>130.896569</td>\n",
       "      <td>143.841126</td>\n",
       "      <td>147.869162</td>\n",
       "      <td>123.645452</td>\n",
       "      <td>153.326693</td>\n",
       "      <td>148.927985</td>\n",
       "      <td>161.185942</td>\n",
       "      <td>158.353279</td>\n",
       "      <td>125.159600</td>\n",
       "      <td>127.898922</td>\n",
       "    </tr>\n",
       "    <tr>\n",
       "      <th>4</th>\n",
       "      <td>BAJA CALIFORNIA</td>\n",
       "      <td>Actividades secundarias</td>\n",
       "      <td>119.017000</td>\n",
       "      <td>118.761770</td>\n",
       "      <td>122.218695</td>\n",
       "      <td>120.953159</td>\n",
       "      <td>123.841961</td>\n",
       "      <td>124.877570</td>\n",
       "      <td>127.481205</td>\n",
       "      <td>131.474620</td>\n",
       "      <td>128.187831</td>\n",
       "      <td>133.690253</td>\n",
       "      <td>127.974122</td>\n",
       "      <td>121.101113</td>\n",
       "      <td>128.953189</td>\n",
       "    </tr>\n",
       "  </tbody>\n",
       "</table>\n",
       "</div>"
      ],
      "text/plain": [
       "  Estado_calculado                       Actividad_economica_agragada  \\\n",
       "0   AGUASCALIENTES                                            Minería   \n",
       "1   AGUASCALIENTES  Generación, transmisión y distribución de ener...   \n",
       "2   AGUASCALIENTES                                       Construcción   \n",
       "3   AGUASCALIENTES                          Industrias manufactureras   \n",
       "4  BAJA CALIFORNIA                            Actividades secundarias   \n",
       "\n",
       "      2018/01     2018/02     2018/03     2018/04     2018/05     2018/06  \\\n",
       "0   71.581928   74.538138   81.759683   72.966245   76.021630   67.741930   \n",
       "1  123.135766  125.902232  116.336919  131.971977  122.666208  134.363338   \n",
       "2  122.091917  130.383091  126.659724  113.136473  115.405914  108.993267   \n",
       "3  156.279936  137.011376  143.705521  130.896569  143.841126  147.869162   \n",
       "4  119.017000  118.761770  122.218695  120.953159  123.841961  124.877570   \n",
       "\n",
       "      2018/07     2018/08     2018/09     2018/10     2018/11     2018/12  \\\n",
       "0   70.577510   75.160746   73.241484   71.103056   78.240948   67.380510   \n",
       "1  128.927324  124.895400  135.179778  133.347973  142.452951  126.612567   \n",
       "2  116.819366  116.504343  117.430186  121.931559  126.966549  118.115246   \n",
       "3  123.645452  153.326693  148.927985  161.185942  158.353279  125.159600   \n",
       "4  127.481205  131.474620  128.187831  133.690253  127.974122  121.101113   \n",
       "\n",
       "      2019/01  \n",
       "0   61.900116  \n",
       "1  127.888741  \n",
       "2  115.432118  \n",
       "3  127.898922  \n",
       "4  128.953189  "
      ]
     },
     "execution_count": 13,
     "metadata": {},
     "output_type": "execute_result"
    }
   ],
   "source": [
    "PIB_df.head()"
   ]
  },
  {
   "cell_type": "code",
   "execution_count": 14,
   "metadata": {},
   "outputs": [],
   "source": [
    "merge_2 = pd.merge(PIB_df,catalogo_sector,on=\"Actividad_economica_agragada\",how=\"left\")"
   ]
  },
  {
   "cell_type": "code",
   "execution_count": 34,
   "metadata": {},
   "outputs": [
    {
     "data": {
      "text/html": [
       "<div>\n",
       "<style scoped>\n",
       "    .dataframe tbody tr th:only-of-type {\n",
       "        vertical-align: middle;\n",
       "    }\n",
       "\n",
       "    .dataframe tbody tr th {\n",
       "        vertical-align: top;\n",
       "    }\n",
       "\n",
       "    .dataframe thead th {\n",
       "        text-align: right;\n",
       "    }\n",
       "</style>\n",
       "<table border=\"1\" class=\"dataframe\">\n",
       "  <thead>\n",
       "    <tr style=\"text-align: right;\">\n",
       "      <th></th>\n",
       "      <th>Estado_calculado</th>\n",
       "      <th>Actividad_economica_agragada</th>\n",
       "      <th>2018/01</th>\n",
       "      <th>2018/02</th>\n",
       "      <th>2018/03</th>\n",
       "      <th>2018/04</th>\n",
       "      <th>2018/05</th>\n",
       "      <th>2018/06</th>\n",
       "      <th>2018/07</th>\n",
       "      <th>2018/08</th>\n",
       "      <th>2018/09</th>\n",
       "      <th>2018/10</th>\n",
       "      <th>2018/11</th>\n",
       "      <th>2018/12</th>\n",
       "      <th>2019/01</th>\n",
       "      <th>Sector</th>\n",
       "    </tr>\n",
       "  </thead>\n",
       "  <tbody>\n",
       "    <tr>\n",
       "      <th>0</th>\n",
       "      <td>AGUASCALIENTES</td>\n",
       "      <td>Minería</td>\n",
       "      <td>71.581928</td>\n",
       "      <td>74.538138</td>\n",
       "      <td>81.759683</td>\n",
       "      <td>72.966245</td>\n",
       "      <td>76.02163</td>\n",
       "      <td>67.74193</td>\n",
       "      <td>70.57751</td>\n",
       "      <td>75.160746</td>\n",
       "      <td>73.241484</td>\n",
       "      <td>71.103056</td>\n",
       "      <td>78.240948</td>\n",
       "      <td>67.38051</td>\n",
       "      <td>61.900116</td>\n",
       "      <td>Mineria y energia</td>\n",
       "    </tr>\n",
       "  </tbody>\n",
       "</table>\n",
       "</div>"
      ],
      "text/plain": [
       "  Estado_calculado Actividad_economica_agragada    2018/01    2018/02  \\\n",
       "0   AGUASCALIENTES                      Minería  71.581928  74.538138   \n",
       "\n",
       "     2018/03    2018/04   2018/05   2018/06   2018/07    2018/08    2018/09  \\\n",
       "0  81.759683  72.966245  76.02163  67.74193  70.57751  75.160746  73.241484   \n",
       "\n",
       "     2018/10    2018/11   2018/12    2019/01             Sector  \n",
       "0  71.103056  78.240948  67.38051  61.900116  Mineria y energia  "
      ]
     },
     "execution_count": 34,
     "metadata": {},
     "output_type": "execute_result"
    }
   ],
   "source": [
    "merge_2.head(1)"
   ]
  },
  {
   "cell_type": "code",
   "execution_count": 35,
   "metadata": {
    "scrolled": false
   },
   "outputs": [],
   "source": [
    "group_pib=pd.DataFrame(merge_2.groupby([\"Estado_calculado\",\"Sector\"]).mean())"
   ]
  },
  {
   "cell_type": "code",
   "execution_count": 37,
   "metadata": {},
   "outputs": [
    {
     "data": {
      "text/html": [
       "<div>\n",
       "<style scoped>\n",
       "    .dataframe tbody tr th:only-of-type {\n",
       "        vertical-align: middle;\n",
       "    }\n",
       "\n",
       "    .dataframe tbody tr th {\n",
       "        vertical-align: top;\n",
       "    }\n",
       "\n",
       "    .dataframe thead th {\n",
       "        text-align: right;\n",
       "    }\n",
       "</style>\n",
       "<table border=\"1\" class=\"dataframe\">\n",
       "  <thead>\n",
       "    <tr style=\"text-align: right;\">\n",
       "      <th></th>\n",
       "      <th></th>\n",
       "      <th>2018/01</th>\n",
       "      <th>2018/02</th>\n",
       "      <th>2018/03</th>\n",
       "      <th>2018/04</th>\n",
       "      <th>2018/05</th>\n",
       "      <th>2018/06</th>\n",
       "      <th>2018/07</th>\n",
       "      <th>2018/08</th>\n",
       "      <th>2018/09</th>\n",
       "      <th>2018/10</th>\n",
       "      <th>2018/11</th>\n",
       "      <th>2018/12</th>\n",
       "      <th>2019/01</th>\n",
       "    </tr>\n",
       "    <tr>\n",
       "      <th>Estado_calculado</th>\n",
       "      <th>Sector</th>\n",
       "      <th></th>\n",
       "      <th></th>\n",
       "      <th></th>\n",
       "      <th></th>\n",
       "      <th></th>\n",
       "      <th></th>\n",
       "      <th></th>\n",
       "      <th></th>\n",
       "      <th></th>\n",
       "      <th></th>\n",
       "      <th></th>\n",
       "      <th></th>\n",
       "      <th></th>\n",
       "    </tr>\n",
       "  </thead>\n",
       "  <tbody>\n",
       "    <tr>\n",
       "      <th>AGUASCALIENTES</th>\n",
       "      <th>Actividades secundarias</th>\n",
       "      <td>143.423253</td>\n",
       "      <td>133.763434</td>\n",
       "      <td>136.807314</td>\n",
       "      <td>124.356369</td>\n",
       "      <td>133.304994</td>\n",
       "      <td>133.934795</td>\n",
       "      <td>120.775552</td>\n",
       "      <td>139.804141</td>\n",
       "      <td>137.429717</td>\n",
       "      <td>146.718298</td>\n",
       "      <td>146.78649</td>\n",
       "      <td>122.079741</td>\n",
       "      <td>122.926209</td>\n",
       "    </tr>\n",
       "  </tbody>\n",
       "</table>\n",
       "</div>"
      ],
      "text/plain": [
       "                                             2018/01     2018/02     2018/03  \\\n",
       "Estado_calculado Sector                                                        \n",
       "AGUASCALIENTES   Actividades secundarias  143.423253  133.763434  136.807314   \n",
       "\n",
       "                                             2018/04     2018/05     2018/06  \\\n",
       "Estado_calculado Sector                                                        \n",
       "AGUASCALIENTES   Actividades secundarias  124.356369  133.304994  133.934795   \n",
       "\n",
       "                                             2018/07     2018/08     2018/09  \\\n",
       "Estado_calculado Sector                                                        \n",
       "AGUASCALIENTES   Actividades secundarias  120.775552  139.804141  137.429717   \n",
       "\n",
       "                                             2018/10    2018/11     2018/12  \\\n",
       "Estado_calculado Sector                                                       \n",
       "AGUASCALIENTES   Actividades secundarias  146.718298  146.78649  122.079741   \n",
       "\n",
       "                                             2019/01  \n",
       "Estado_calculado Sector                               \n",
       "AGUASCALIENTES   Actividades secundarias  122.926209  "
      ]
     },
     "execution_count": 37,
     "metadata": {},
     "output_type": "execute_result"
    }
   ],
   "source": [
    "group_pib.head(1)"
   ]
  },
  {
   "cell_type": "code",
   "execution_count": 43,
   "metadata": {},
   "outputs": [],
   "source": [
    "group_pib=group_pib.reset_index(level=1,col_level=1)\n",
    "group_pib=group_pib.reset_index(level=0,col_level=0)"
   ]
  },
  {
   "cell_type": "code",
   "execution_count": 45,
   "metadata": {},
   "outputs": [
    {
     "data": {
      "text/plain": [
       "Index(['Estado_calculado', 'Sector', '2018/01', '2018/02', '2018/03',\n",
       "       '2018/04', '2018/05', '2018/06', '2018/07', '2018/08', '2018/09',\n",
       "       '2018/10', '2018/11', '2018/12', '2019/01'],\n",
       "      dtype='object')"
      ]
     },
     "execution_count": 45,
     "metadata": {},
     "output_type": "execute_result"
    }
   ],
   "source": [
    "group_pib.columns"
   ]
  },
  {
   "cell_type": "code",
   "execution_count": 46,
   "metadata": {},
   "outputs": [],
   "source": [
    "group_cnbv=merge_1.groupby([\"Estado_calculado\",\"Sector\"]).sum()\n",
    "group_cnbv=group_cnbv.reset_index(level=1,col_level=1)\n",
    "group_cnbv=group_cnbv.reset_index(level=0,col_level=0)"
   ]
  },
  {
   "cell_type": "code",
   "execution_count": 47,
   "metadata": {},
   "outputs": [
    {
     "data": {
      "text/plain": [
       "Index(['Estado_calculado', 'Sector', 'Cartera_Total', 'IMOR'], dtype='object')"
      ]
     },
     "execution_count": 47,
     "metadata": {},
     "output_type": "execute_result"
    }
   ],
   "source": [
    "group_cnbv.columns"
   ]
  },
  {
   "cell_type": "code",
   "execution_count": 51,
   "metadata": {},
   "outputs": [],
   "source": [
    "new_df = pd.merge(group_cnbv,group_pib,  how='left', left_on=['Estado_calculado','Sector'], right_on = ['Estado_calculado','Sector'])"
   ]
  },
  {
   "cell_type": "code",
   "execution_count": 56,
   "metadata": {},
   "outputs": [],
   "source": [
    "cnbv_pib=new_df[['Estado_calculado','Sector','Cartera_Total','2019/01']].copy()"
   ]
  },
  {
   "cell_type": "code",
   "execution_count": 57,
   "metadata": {},
   "outputs": [
    {
     "data": {
      "text/html": [
       "<div>\n",
       "<style scoped>\n",
       "    .dataframe tbody tr th:only-of-type {\n",
       "        vertical-align: middle;\n",
       "    }\n",
       "\n",
       "    .dataframe tbody tr th {\n",
       "        vertical-align: top;\n",
       "    }\n",
       "\n",
       "    .dataframe thead th {\n",
       "        text-align: right;\n",
       "    }\n",
       "</style>\n",
       "<table border=\"1\" class=\"dataframe\">\n",
       "  <thead>\n",
       "    <tr style=\"text-align: right;\">\n",
       "      <th></th>\n",
       "      <th>Estado_calculado</th>\n",
       "      <th>Sector</th>\n",
       "      <th>Cartera_Total</th>\n",
       "      <th>2019/01</th>\n",
       "    </tr>\n",
       "  </thead>\n",
       "  <tbody>\n",
       "    <tr>\n",
       "      <th>0</th>\n",
       "      <td>AGUASCALIENTES</td>\n",
       "      <td>Actividades secundarias</td>\n",
       "      <td>2827.89</td>\n",
       "      <td>122.926209</td>\n",
       "    </tr>\n",
       "    <tr>\n",
       "      <th>1</th>\n",
       "      <td>AGUASCALIENTES</td>\n",
       "      <td>Construccion</td>\n",
       "      <td>5386.02</td>\n",
       "      <td>115.432118</td>\n",
       "    </tr>\n",
       "    <tr>\n",
       "      <th>2</th>\n",
       "      <td>AGUASCALIENTES</td>\n",
       "      <td>Industrias manufactureras</td>\n",
       "      <td>4250.33</td>\n",
       "      <td>127.898922</td>\n",
       "    </tr>\n",
       "    <tr>\n",
       "      <th>3</th>\n",
       "      <td>AGUASCALIENTES</td>\n",
       "      <td>Mineria y energia</td>\n",
       "      <td>262.16</td>\n",
       "      <td>94.894428</td>\n",
       "    </tr>\n",
       "    <tr>\n",
       "      <th>4</th>\n",
       "      <td>AGUASCALIENTES</td>\n",
       "      <td>Otros</td>\n",
       "      <td>9408.62</td>\n",
       "      <td>NaN</td>\n",
       "    </tr>\n",
       "  </tbody>\n",
       "</table>\n",
       "</div>"
      ],
      "text/plain": [
       "  Estado_calculado                     Sector  Cartera_Total     2019/01\n",
       "0   AGUASCALIENTES    Actividades secundarias        2827.89  122.926209\n",
       "1   AGUASCALIENTES               Construccion        5386.02  115.432118\n",
       "2   AGUASCALIENTES  Industrias manufactureras        4250.33  127.898922\n",
       "3   AGUASCALIENTES          Mineria y energia         262.16   94.894428\n",
       "4   AGUASCALIENTES                      Otros        9408.62         NaN"
      ]
     },
     "execution_count": 57,
     "metadata": {},
     "output_type": "execute_result"
    }
   ],
   "source": [
    "cnbv_pib.head(5)"
   ]
  },
  {
   "cell_type": "code",
   "execution_count": null,
   "metadata": {},
   "outputs": [],
   "source": []
  }
 ],
 "metadata": {
  "kernelspec": {
   "display_name": "Python 3",
   "language": "python",
   "name": "python3"
  },
  "language_info": {
   "codemirror_mode": {
    "name": "ipython",
    "version": 3
   },
   "file_extension": ".py",
   "mimetype": "text/x-python",
   "name": "python",
   "nbconvert_exporter": "python",
   "pygments_lexer": "ipython3",
   "version": "3.7.1"
  }
 },
 "nbformat": 4,
 "nbformat_minor": 2
}
